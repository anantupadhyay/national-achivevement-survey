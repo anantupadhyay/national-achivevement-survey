{
 "cells": [
  {
   "cell_type": "code",
   "execution_count": 15,
   "metadata": {},
   "outputs": [],
   "source": [
    "import pandas as pd\n",
    "import numpy as np\n",
    "import matplotlib.pyplot as plt\n",
    "import math\n",
    "import seaborn as sns\n",
    "from matplotlib.colors import Normalize"
   ]
  },
  {
   "cell_type": "code",
   "execution_count": 8,
   "metadata": {},
   "outputs": [
    {
     "name": "stdout",
     "output_type": "stream",
     "text": [
      "   District code       State name District name  Population    Male  Female  \\\n",
      "0              1  JAMMU & KASHMIR       Kupwara      870354  474190  396164   \n",
      "1              2  JAMMU & KASHMIR        Badgam      753745  398041  355704   \n",
      "2              3  JAMMU & KASHMIR   Leh(Ladakh)      133487   78971   54516   \n",
      "3              4  JAMMU & KASHMIR        Kargil      140802   77785   63017   \n",
      "4              5  JAMMU & KASHMIR         Punch      476835  251899  224936   \n",
      "\n",
      "   Literate  Male_Literate  Female_Literate    SC         ...          \\\n",
      "0    439654         282823           156831  1048         ...           \n",
      "1    335649         207741           127908   368         ...           \n",
      "2     93770          62834            30936   488         ...           \n",
      "3     86236          56301            29935    18         ...           \n",
      "4    261724         163333            98391   556         ...           \n",
      "\n",
      "   Power_Parity_Rs_90000_150000  Power_Parity_Rs_45000_150000  \\\n",
      "0                            94                           588   \n",
      "1                           126                           562   \n",
      "2                            46                           122   \n",
      "3                            27                           114   \n",
      "4                            78                           346   \n",
      "\n",
      "   Power_Parity_Rs_150000_240000  Power_Parity_Rs_240000_330000  \\\n",
      "0                             71                            101   \n",
      "1                             72                             89   \n",
      "2                             15                             22   \n",
      "3                             12                             18   \n",
      "4                             35                             50   \n",
      "\n",
      "   Power_Parity_Rs_150000_330000  Power_Parity_Rs_330000_425000  \\\n",
      "0                            172                             74   \n",
      "1                            161                             96   \n",
      "2                             37                             20   \n",
      "3                             30                             19   \n",
      "4                             85                             59   \n",
      "\n",
      "   Power_Parity_Rs_425000_545000  Power_Parity_Rs_330000_545000  \\\n",
      "0                             10                             84   \n",
      "1                             28                            124   \n",
      "2                             14                             34   \n",
      "3                              3                             22   \n",
      "4                              8                             67   \n",
      "\n",
      "   Power_Parity_Above_Rs_545000  Total_Power_Parity  \n",
      "0                            15                1119  \n",
      "1                            18                1066  \n",
      "2                            17                 242  \n",
      "3                             7                 214  \n",
      "4                            12                 629  \n",
      "\n",
      "[5 rows x 118 columns]\n"
     ]
    }
   ],
   "source": [
    "data = pd.read_csv(\"india-districts-census-2011.csv\")\n",
    "print data.head()"
   ]
  },
  {
   "cell_type": "code",
   "execution_count": 9,
   "metadata": {},
   "outputs": [
    {
     "name": "stdout",
     "output_type": "stream",
     "text": [
      "The literacy rates are as follows\n",
      "[('ANDAMAN & NICOBAR ISLANDS', 77.32414387475991), ('ANDHRA PRADESH', 59.77334542575791), ('ARUNACHAL PRADESH', 55.35810170647822), ('ASSAM', 61.45689155040753), ('BIHAR', 50.43691584466746), ('CHANDIGARH', 76.31228385996495), ('CHHATTISGARH', 60.20670499402666), ('DADRA & NAGAR HAVELI', 64.94738281511395), ('DAMAN & DIU', 77.45460375667531), ('GOA', 79.9075105670377), ('GUJARAT', 67.99068069374013), ('HARYANA', 65.47546646422207), ('HIMACHAL PRADESH', 73.41628837330991), ('JAMMU & KASHMIR', 56.351669069128555), ('JHARKHAND', 55.55958090869887), ('KARNATAKA', 66.5310162908284), ('KERALA', 84.2237101824127), ('LAKSHADWEEP', 81.51164053169543), ('MADHYA PRADESH', 59.00186114469107), ('MAHARASHTRA', 72.5737700262924), ('MANIPUR', 66.8282095977511), ('MEGHALAYA', 60.16419893025995), ('MIZORAM', 77.30316822912015), ('NAGALAND', 67.85103072930934), ('NCT OF DELHI', 75.87450420513153), ('ODISHA', 63.71195527692738), ('PUDUCHERRY', 76.71034085418282), ('PUNJAB', 67.42929419668246), ('RAJASTHAN', 55.8368413272501), ('SIKKIM', 72.8740191654779), ('TAMIL NADU', 71.84981419193555), ('TRIPURA', 76.34312370148808), ('UTTAR PRADESH', 57.252497231890196), ('UTTARAKHAND', 68.22083873835896), ('WEST BENGAL', 67.41991702867722)]\n"
     ]
    }
   ],
   "source": [
    "states = data.groupby(by=\"State name\")\n",
    "literacy_rate = []\n",
    "\n",
    "for key, group in states:\n",
    "    total_st_pop = 0\n",
    "    total_lit_pop = 0\n",
    "    \n",
    "    for row in group.iterrows():\n",
    "        total_st_pop += row[1][3]\n",
    "        total_lit_pop += row[1][6]\n",
    "        \n",
    "    rate = (total_lit_pop*1.0/total_st_pop)*100\n",
    "    literacy_rate.append((key, rate))\n",
    "    \n",
    "print (\"The literacy rates are as follows\")\n",
    "print literacy_rate"
   ]
  },
  {
   "cell_type": "code",
   "execution_count": 10,
   "metadata": {},
   "outputs": [],
   "source": [
    "df_bihar = data.loc[data['State name']=='BIHAR']\n",
    "df_tamilnadu = data.loc[data['State name']== 'TAMIL NADU']"
   ]
  },
  {
   "cell_type": "code",
   "execution_count": 19,
   "metadata": {},
   "outputs": [
    {
     "name": "stdout",
     "output_type": "stream",
     "text": [
      "Patna from Bihar and Perambalur from Tamil Nadu are most similar\n"
     ]
    }
   ],
   "source": [
    "\n",
    "def similar_districts(df1, df2):\n",
    "    # Set indices for both the data frames\n",
    "    df1.set_index('District code')\n",
    "    df2.set_index('District code')\n",
    "    \n",
    "    # The similarity matrix of size len(df1) X len(df2)\n",
    "    main_diff = []\n",
    "    \n",
    "    # Iterate through rows of df1\n",
    "    for row1 in df1.iterrows(): \n",
    "        # Create list to hold similarity score of row1 with other rows of df2\n",
    "        diff=[]\n",
    "        # Iterate through rows of df2\n",
    "        for row2 in df2.iterrows():\n",
    "            # Calculate sum of squared differences\n",
    "            dist = 0\n",
    "            for column in list(data)[3:]:\n",
    "                max_col = max(data[column])\n",
    "                min_col = min(data[column]) \n",
    "    \n",
    "                dist += pow((row1[1][column] - row2[1][column])/(max_col - min_col),2)\n",
    "            # Take sqrt and inverse the result\n",
    "            if(dist==0):\n",
    "                dist = 1\n",
    "            diff.append(1/math.sqrt(dist*1.0))\n",
    "        # Append similarity scores\n",
    "        main_diff.append(diff)\n",
    "\n",
    "    # Find the max value of similarity score from lists of lists\n",
    "    max_val = 0\n",
    "    max_index1 = 0\n",
    "    max_index2 = 0\n",
    "    for i in range(len(main_diff)):\n",
    "\n",
    "        for j in range(len(main_diff[i])):\n",
    "            if(main_diff[i][j] > max_val):\n",
    "                max_val = main_diff[i][j]\n",
    "                max_index1 = i\n",
    "                max_index2 = j\n",
    "\n",
    "    print \"%s from Bihar and %s from Tamil Nadu are most similar\" %(df1['District name'].iloc[max_index1],\n",
    "                                                                    df2['District name'].iloc[max_index2])\n",
    "    return main_diff\n",
    "    \n",
    "sim_matrix = similar_districts(df_bihar, df_tamilnadu)"
   ]
  },
  {
   "cell_type": "code",
   "execution_count": 20,
   "metadata": {},
   "outputs": [
    {
     "ename": "NameError",
     "evalue": "name 'df_Tamil_Nadu' is not defined",
     "output_type": "error",
     "traceback": [
      "\u001b[0;31m---------------------------------------------------------------------------\u001b[0m",
      "\u001b[0;31mNameError\u001b[0m                                 Traceback (most recent call last)",
      "\u001b[0;32m<ipython-input-20-09b0d9d25e38>\u001b[0m in \u001b[0;36m<module>\u001b[0;34m()\u001b[0m\n\u001b[1;32m      3\u001b[0m \u001b[0;31m# Plot the matrix using a heatmap from seaborn\u001b[0m\u001b[0;34m\u001b[0m\u001b[0;34m\u001b[0m\u001b[0m\n\u001b[1;32m      4\u001b[0m \u001b[0;31m# Values of the matrix are normalized so as to fall between 0 and 1\u001b[0m\u001b[0;34m\u001b[0m\u001b[0;34m\u001b[0m\u001b[0m\n\u001b[0;32m----> 5\u001b[0;31m sns.heatmap(norm(sim_matrix), xticklabels=df_Tamil_Nadu['District name'],yticklabels=df_Bihar['District name'],\n\u001b[0m\u001b[1;32m      6\u001b[0m             linewidths=0.05,cmap='Blues').set_title(\"SIMILARITY MATRIX FOR DISTRICTS OF BIHAR AND TAMIL NADU\")\n\u001b[1;32m      7\u001b[0m \u001b[0mplt\u001b[0m\u001b[0;34m.\u001b[0m\u001b[0mrcParams\u001b[0m\u001b[0;34m[\u001b[0m\u001b[0;34m'figure.figsize'\u001b[0m\u001b[0;34m]\u001b[0m \u001b[0;34m=\u001b[0m \u001b[0;34m(\u001b[0m\u001b[0;36m15\u001b[0m\u001b[0;34m,\u001b[0m\u001b[0;36m15\u001b[0m\u001b[0;34m)\u001b[0m\u001b[0;34m\u001b[0m\u001b[0m\n",
      "\u001b[0;31mNameError\u001b[0m: name 'df_Tamil_Nadu' is not defined"
     ]
    },
    {
     "data": {
      "image/png": "[encoded data removed]",
      "text/plain": [
       "<matplotlib.figure.Figure at 0x7f12c03a6990>"
      ]
     },
     "metadata": {},
     "output_type": "display_data"
    }
   ],
   "source": [
    "norm=Normalize()\n",
    "ax = plt.axes()\n",
    "# Plot the matrix using a heatmap from seaborn\n",
    "# Values of the matrix are normalized so as to fall between 0 and 1\n",
    "sns.heatmap(norm(sim_matrix), xticklabels=df_tamilnadu['District name'],yticklabels=df_bihar['District name'],\n",
    "            linewidths=0.05,cmap='Blues').set_title(\"SIMILARITY MATRIX FOR DISTRICTS OF BIHAR AND TAMIL NADU\")\n",
    "plt.rcParams['figure.figsize'] = (15,15)"
   ]
  },
  {
   "cell_type": "code",
   "execution_count": null,
   "metadata": {},
   "outputs": [],
   "source": []
  }
 ],
 "metadata": {
  "kernelspec": {
   "display_name": "Python 2",
   "language": "python",
   "name": "python2"
  },
  "language_info": {
   "codemirror_mode": {
    "name": "ipython",
    "version": 2
   },
   "file_extension": ".py",
   "mimetype": "text/x-python",
   "name": "python",
   "nbconvert_exporter": "python",
   "pygments_lexer": "ipython2",
   "version": "2.7.12"
  }
 },
 "nbformat": 4,
 "nbformat_minor": 2
}

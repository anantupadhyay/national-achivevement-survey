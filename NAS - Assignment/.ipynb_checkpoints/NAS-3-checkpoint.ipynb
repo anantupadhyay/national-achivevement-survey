{
 "cells": [
  {
   "cell_type": "markdown",
   "metadata": {},
   "source": [
    "COMPAIRING THE PERFORMANCE OF SOUTH INDIAN STUDENTS WITH REST OF INDIA\n",
    "\n",
    "First of all importing the libraries and examining the dataset"
   ]
  },
  {
   "cell_type": "code",
   "execution_count": 2,
   "metadata": {},
   "outputs": [],
   "source": [
    "import pandas as pd\n",
    "import numpy as np\n",
    "import matplotlib.pyplot as plt"
   ]
  },
  {
   "cell_type": "code",
   "execution_count": 3,
   "metadata": {},
   "outputs": [
    {
     "name": "stdout",
     "output_type": "stream",
     "text": [
      "['STUID', 'State', 'District', 'Gender', 'Age', 'Category', 'Same language', 'Siblings', 'Handicap', 'Father edu', 'Mother edu', 'Father occupation', 'Mother occupation', 'Below poverty', 'Use calculator', 'Use computer', 'Use Internet', 'Use dictionary', 'Read other books', '# Books', 'Distance', 'Computer use', 'Library use', 'Like school', 'Subjects', 'Give Lang HW', 'Give Math HW', 'Give Scie HW', 'Give SoSc HW', 'Correct Lang HW', 'Correct Math HW', 'Correct Scie HW', 'Correct SocS HW', 'Help in Study', 'Private tuition', 'English is difficult', 'Read English', 'Dictionary to learn', 'Answer English WB', 'Answer English aloud', 'Maths is difficult', 'Solve Maths', 'Solve Maths in groups', 'Draw geometry', 'Explain answers', 'SocSci is difficult', 'Historical excursions', 'Participate in SocSci', 'Small groups in SocSci', 'Express SocSci views', 'Science is difficult', 'Observe experiments', 'Conduct experiments', 'Solve science problems', 'Express science views', 'Watch TV', 'Read magazine', 'Read a book', 'Play games', 'Help in household', 'Maths %', 'Reading %', 'Science %', 'Social %']\n"
     ]
    },
    {
     "data": {
      "text/html": [
       "<div>\n",
       "<table border=\"1\" class=\"dataframe\">\n",
       "  <thead>\n",
       "    <tr style=\"text-align: right;\">\n",
       "      <th></th>\n",
       "      <th>STUID</th>\n",
       "      <th>District</th>\n",
       "      <th>Gender</th>\n",
       "      <th>Age</th>\n",
       "      <th>Category</th>\n",
       "      <th>Same language</th>\n",
       "      <th>Siblings</th>\n",
       "      <th>Handicap</th>\n",
       "      <th>Father edu</th>\n",
       "      <th>Mother edu</th>\n",
       "      <th>...</th>\n",
       "      <th>Express science views</th>\n",
       "      <th>Watch TV</th>\n",
       "      <th>Read magazine</th>\n",
       "      <th>Read a book</th>\n",
       "      <th>Play games</th>\n",
       "      <th>Help in household</th>\n",
       "      <th>Maths %</th>\n",
       "      <th>Reading %</th>\n",
       "      <th>Science %</th>\n",
       "      <th>Social %</th>\n",
       "    </tr>\n",
       "  </thead>\n",
       "  <tbody>\n",
       "    <tr>\n",
       "      <th>count</th>\n",
       "      <td>1.853480e+05</td>\n",
       "      <td>185348.000000</td>\n",
       "      <td>185348.000000</td>\n",
       "      <td>185348.000000</td>\n",
       "      <td>185348.000000</td>\n",
       "      <td>185348.000000</td>\n",
       "      <td>185348.000000</td>\n",
       "      <td>185348.000000</td>\n",
       "      <td>185348.000000</td>\n",
       "      <td>185348.000000</td>\n",
       "      <td>...</td>\n",
       "      <td>185348.000000</td>\n",
       "      <td>185348.000000</td>\n",
       "      <td>185348.000000</td>\n",
       "      <td>185348.000000</td>\n",
       "      <td>185348.000000</td>\n",
       "      <td>185348.000000</td>\n",
       "      <td>92681.000000</td>\n",
       "      <td>93271.000000</td>\n",
       "      <td>90992.000000</td>\n",
       "      <td>89571.000000</td>\n",
       "    </tr>\n",
       "    <tr>\n",
       "      <th>mean</th>\n",
       "      <td>2.634978e+10</td>\n",
       "      <td>5.353292</td>\n",
       "      <td>1.516925</td>\n",
       "      <td>3.579148</td>\n",
       "      <td>2.543896</td>\n",
       "      <td>1.270826</td>\n",
       "      <td>3.557400</td>\n",
       "      <td>1.836880</td>\n",
       "      <td>2.058533</td>\n",
       "      <td>1.704955</td>\n",
       "      <td>...</td>\n",
       "      <td>2.147442</td>\n",
       "      <td>3.411761</td>\n",
       "      <td>2.964925</td>\n",
       "      <td>2.908297</td>\n",
       "      <td>3.325631</td>\n",
       "      <td>3.421855</td>\n",
       "      <td>32.244413</td>\n",
       "      <td>46.208704</td>\n",
       "      <td>36.414637</td>\n",
       "      <td>38.357868</td>\n",
       "    </tr>\n",
       "    <tr>\n",
       "      <th>std</th>\n",
       "      <td>9.313274e+09</td>\n",
       "      <td>4.165150</td>\n",
       "      <td>0.502246</td>\n",
       "      <td>1.198826</td>\n",
       "      <td>1.235319</td>\n",
       "      <td>0.583421</td>\n",
       "      <td>1.234595</td>\n",
       "      <td>0.481326</td>\n",
       "      <td>1.207070</td>\n",
       "      <td>1.161219</td>\n",
       "      <td>...</td>\n",
       "      <td>1.006731</td>\n",
       "      <td>0.989371</td>\n",
       "      <td>1.177285</td>\n",
       "      <td>1.105515</td>\n",
       "      <td>1.046522</td>\n",
       "      <td>1.131092</td>\n",
       "      <td>16.088122</td>\n",
       "      <td>21.828532</td>\n",
       "      <td>14.905728</td>\n",
       "      <td>15.133607</td>\n",
       "    </tr>\n",
       "    <tr>\n",
       "      <th>min</th>\n",
       "      <td>1.101100e+10</td>\n",
       "      <td>1.000000</td>\n",
       "      <td>0.000000</td>\n",
       "      <td>0.000000</td>\n",
       "      <td>0.000000</td>\n",
       "      <td>0.000000</td>\n",
       "      <td>1.000000</td>\n",
       "      <td>0.000000</td>\n",
       "      <td>0.000000</td>\n",
       "      <td>0.000000</td>\n",
       "      <td>...</td>\n",
       "      <td>0.000000</td>\n",
       "      <td>0.000000</td>\n",
       "      <td>0.000000</td>\n",
       "      <td>0.000000</td>\n",
       "      <td>0.000000</td>\n",
       "      <td>0.000000</td>\n",
       "      <td>0.000000</td>\n",
       "      <td>0.000000</td>\n",
       "      <td>0.000000</td>\n",
       "      <td>0.000000</td>\n",
       "    </tr>\n",
       "    <tr>\n",
       "      <th>25%</th>\n",
       "      <td>1.807117e+10</td>\n",
       "      <td>2.000000</td>\n",
       "      <td>1.000000</td>\n",
       "      <td>3.000000</td>\n",
       "      <td>1.000000</td>\n",
       "      <td>1.000000</td>\n",
       "      <td>3.000000</td>\n",
       "      <td>2.000000</td>\n",
       "      <td>1.000000</td>\n",
       "      <td>1.000000</td>\n",
       "      <td>...</td>\n",
       "      <td>1.000000</td>\n",
       "      <td>3.000000</td>\n",
       "      <td>2.000000</td>\n",
       "      <td>2.000000</td>\n",
       "      <td>3.000000</td>\n",
       "      <td>4.000000</td>\n",
       "      <td>21.670000</td>\n",
       "      <td>27.590000</td>\n",
       "      <td>25.930000</td>\n",
       "      <td>28.000000</td>\n",
       "    </tr>\n",
       "    <tr>\n",
       "      <th>50%</th>\n",
       "      <td>2.520125e+10</td>\n",
       "      <td>4.000000</td>\n",
       "      <td>2.000000</td>\n",
       "      <td>4.000000</td>\n",
       "      <td>3.000000</td>\n",
       "      <td>1.000000</td>\n",
       "      <td>4.000000</td>\n",
       "      <td>2.000000</td>\n",
       "      <td>2.000000</td>\n",
       "      <td>2.000000</td>\n",
       "      <td>...</td>\n",
       "      <td>3.000000</td>\n",
       "      <td>4.000000</td>\n",
       "      <td>3.000000</td>\n",
       "      <td>3.000000</td>\n",
       "      <td>4.000000</td>\n",
       "      <td>4.000000</td>\n",
       "      <td>27.780000</td>\n",
       "      <td>43.330000</td>\n",
       "      <td>33.930000</td>\n",
       "      <td>36.000000</td>\n",
       "    </tr>\n",
       "    <tr>\n",
       "      <th>75%</th>\n",
       "      <td>3.503107e+10</td>\n",
       "      <td>8.000000</td>\n",
       "      <td>2.000000</td>\n",
       "      <td>4.000000</td>\n",
       "      <td>4.000000</td>\n",
       "      <td>2.000000</td>\n",
       "      <td>5.000000</td>\n",
       "      <td>2.000000</td>\n",
       "      <td>3.000000</td>\n",
       "      <td>2.000000</td>\n",
       "      <td>...</td>\n",
       "      <td>3.000000</td>\n",
       "      <td>4.000000</td>\n",
       "      <td>4.000000</td>\n",
       "      <td>4.000000</td>\n",
       "      <td>4.000000</td>\n",
       "      <td>4.000000</td>\n",
       "      <td>37.930000</td>\n",
       "      <td>63.330000</td>\n",
       "      <td>44.640000</td>\n",
       "      <td>48.000000</td>\n",
       "    </tr>\n",
       "    <tr>\n",
       "      <th>max</th>\n",
       "      <td>4.502103e+10</td>\n",
       "      <td>28.000000</td>\n",
       "      <td>2.000000</td>\n",
       "      <td>6.000000</td>\n",
       "      <td>4.000000</td>\n",
       "      <td>2.000000</td>\n",
       "      <td>5.000000</td>\n",
       "      <td>2.000000</td>\n",
       "      <td>5.000000</td>\n",
       "      <td>5.000000</td>\n",
       "      <td>...</td>\n",
       "      <td>3.000000</td>\n",
       "      <td>4.000000</td>\n",
       "      <td>4.000000</td>\n",
       "      <td>4.000000</td>\n",
       "      <td>4.000000</td>\n",
       "      <td>4.000000</td>\n",
       "      <td>100.000000</td>\n",
       "      <td>100.000000</td>\n",
       "      <td>100.000000</td>\n",
       "      <td>96.000000</td>\n",
       "    </tr>\n",
       "  </tbody>\n",
       "</table>\n",
       "<p>8 rows × 61 columns</p>\n",
       "</div>"
      ],
      "text/plain": [
       "              STUID       District         Gender            Age  \\\n",
       "count  1.853480e+05  185348.000000  185348.000000  185348.000000   \n",
       "mean   2.634978e+10       5.353292       1.516925       3.579148   \n",
       "std    9.313274e+09       4.165150       0.502246       1.198826   \n",
       "min    1.101100e+10       1.000000       0.000000       0.000000   \n",
       "25%    1.807117e+10       2.000000       1.000000       3.000000   \n",
       "50%    2.520125e+10       4.000000       2.000000       4.000000   \n",
       "75%    3.503107e+10       8.000000       2.000000       4.000000   \n",
       "max    4.502103e+10      28.000000       2.000000       6.000000   \n",
       "\n",
       "            Category  Same language       Siblings       Handicap  \\\n",
       "count  185348.000000  185348.000000  185348.000000  185348.000000   \n",
       "mean        2.543896       1.270826       3.557400       1.836880   \n",
       "std         1.235319       0.583421       1.234595       0.481326   \n",
       "min         0.000000       0.000000       1.000000       0.000000   \n",
       "25%         1.000000       1.000000       3.000000       2.000000   \n",
       "50%         3.000000       1.000000       4.000000       2.000000   \n",
       "75%         4.000000       2.000000       5.000000       2.000000   \n",
       "max         4.000000       2.000000       5.000000       2.000000   \n",
       "\n",
       "          Father edu     Mother edu      ...       Express science views  \\\n",
       "count  185348.000000  185348.000000      ...               185348.000000   \n",
       "mean        2.058533       1.704955      ...                    2.147442   \n",
       "std         1.207070       1.161219      ...                    1.006731   \n",
       "min         0.000000       0.000000      ...                    0.000000   \n",
       "25%         1.000000       1.000000      ...                    1.000000   \n",
       "50%         2.000000       2.000000      ...                    3.000000   \n",
       "75%         3.000000       2.000000      ...                    3.000000   \n",
       "max         5.000000       5.000000      ...                    3.000000   \n",
       "\n",
       "            Watch TV  Read magazine    Read a book     Play games  \\\n",
       "count  185348.000000  185348.000000  185348.000000  185348.000000   \n",
       "mean        3.411761       2.964925       2.908297       3.325631   \n",
       "std         0.989371       1.177285       1.105515       1.046522   \n",
       "min         0.000000       0.000000       0.000000       0.000000   \n",
       "25%         3.000000       2.000000       2.000000       3.000000   \n",
       "50%         4.000000       3.000000       3.000000       4.000000   \n",
       "75%         4.000000       4.000000       4.000000       4.000000   \n",
       "max         4.000000       4.000000       4.000000       4.000000   \n",
       "\n",
       "       Help in household       Maths %     Reading %     Science %  \\\n",
       "count      185348.000000  92681.000000  93271.000000  90992.000000   \n",
       "mean            3.421855     32.244413     46.208704     36.414637   \n",
       "std             1.131092     16.088122     21.828532     14.905728   \n",
       "min             0.000000      0.000000      0.000000      0.000000   \n",
       "25%             4.000000     21.670000     27.590000     25.930000   \n",
       "50%             4.000000     27.780000     43.330000     33.930000   \n",
       "75%             4.000000     37.930000     63.330000     44.640000   \n",
       "max             4.000000    100.000000    100.000000    100.000000   \n",
       "\n",
       "           Social %  \n",
       "count  89571.000000  \n",
       "mean      38.357868  \n",
       "std       15.133607  \n",
       "min        0.000000  \n",
       "25%       28.000000  \n",
       "50%       36.000000  \n",
       "75%       48.000000  \n",
       "max       96.000000  \n",
       "\n",
       "[8 rows x 61 columns]"
      ]
     },
     "execution_count": 3,
     "metadata": {},
     "output_type": "execute_result"
    }
   ],
   "source": [
    "marks = pd.read_csv('nas-pupil-marks.csv')\n",
    "labels = pd.read_csv('nas-labels.csv')\n",
    "print list(marks)\n",
    "marks.describe()"
   ]
  },
  {
   "cell_type": "code",
   "execution_count": 4,
   "metadata": {},
   "outputs": [],
   "source": [
    "category = ['State', 'District', 'Gender', 'Age', 'Category','Same language', 'Siblings', 'Handicap', 'Father edu', 'Mother edu','Father occupation', 'Mother occupation', 'Below poverty','Use calculator', 'Use computer', 'Use Internet', 'Use dictionary','Read other books', '# Books', 'Distance', 'Computer use','Library use', 'Like school', 'Subjects', 'Give Lang HW','Give Math HW', 'Give Scie HW', 'Give SoSc HW', 'Correct Lang HW','Correct Math HW', 'Correct Scie HW', 'Correct SocS HW','Help in Study', 'Private tuition', 'English is difficult','Read English', 'Dictionary to learn', 'Answer English WB','Answer English aloud', 'Maths is difficult', 'Solve Maths','Solve Maths in groups', 'Draw geometry', 'Explain answers','SocSci is difficult', 'Historical excursions', 'Participate in SocSci','Small groups in SocSci', 'Express SocSci views','Science is difficult', 'Observe experiments', 'Conduct experiments','Solve science problems', 'Express science views', 'Watch TV','Read magazine', 'Read a book', 'Play games', 'Help in household']\n",
    "performance = ['Maths %', 'Reading %', 'Science %', 'Social %']"
   ]
  },
  {
   "cell_type": "code",
   "execution_count": 5,
   "metadata": {},
   "outputs": [
    {
     "name": "stderr",
     "output_type": "stream",
     "text": [
      "/usr/local/lib/python2.7/dist-packages/pandas/core/frame.py:4208: RuntimeWarning: Mean of empty slice\n",
      "  labels=labels)\n"
     ]
    },
    {
     "data": {
      "text/plain": [
       "count    180774.000000\n",
       "mean         38.095342\n",
       "std          14.949624\n",
       "min           0.000000\n",
       "25%          27.035000\n",
       "50%          35.640000\n",
       "75%          47.320000\n",
       "max         100.000000\n",
       "Name: performance, dtype: float64"
      ]
     },
     "execution_count": 5,
     "metadata": {},
     "output_type": "execute_result"
    }
   ],
   "source": [
    "marks[\"performance\"]=marks[performance].apply(np.nanmean, axis=1)\n",
    "marks[\"performance\"].describe()"
   ]
  },
  {
   "cell_type": "code",
   "execution_count": 6,
   "metadata": {},
   "outputs": [
    {
     "data": {
      "text/plain": [
       "Use computer    19162\n",
       "Maths %         92667\n",
       "Reading %       92077\n",
       "Science %       94356\n",
       "Social %        95777\n",
       "performance      4574\n",
       "dtype: int64"
      ]
     },
     "execution_count": 6,
     "metadata": {},
     "output_type": "execute_result"
    }
   ],
   "source": [
    "pd.isnull(marks).sum()[pd.isnull(marks).sum()!=0]"
   ]
  },
  {
   "cell_type": "markdown",
   "metadata": {},
   "source": [
    "Getting the number of null values present in each subject in the dataset."
   ]
  },
  {
   "cell_type": "code",
   "execution_count": 7,
   "metadata": {},
   "outputs": [
    {
     "name": "stdout",
     "output_type": "stream",
     "text": [
      "State        0\n",
      "Maths %      0\n",
      "Science %    0\n",
      "math_sci     0\n",
      "dtype: int64\n",
      "Index([u'State', u'Maths %', u'Science %', u'math_sci'], dtype='object')\n"
     ]
    }
   ],
   "source": [
    "marks['math_sci'] = marks[['Maths %','Science %']].apply(np.nanmean,axis=1)\n",
    "south = marks[['State','Maths %','Science %','math_sci']].dropna(subset=['Maths %','Science %'])\n",
    "print (south.isnull().sum())\n",
    "print(south.columns)"
   ]
  },
  {
   "cell_type": "code",
   "execution_count": 8,
   "metadata": {},
   "outputs": [
    {
     "data": {
      "text/html": [
       "<div>\n",
       "<table border=\"1\" class=\"dataframe\">\n",
       "  <thead>\n",
       "    <tr style=\"text-align: right;\">\n",
       "      <th></th>\n",
       "      <th>State</th>\n",
       "      <th>Maths %</th>\n",
       "      <th>Science %</th>\n",
       "      <th>math_sci</th>\n",
       "      <th>is_south</th>\n",
       "      <th>south_vs_rest</th>\n",
       "    </tr>\n",
       "  </thead>\n",
       "  <tbody>\n",
       "    <tr>\n",
       "      <th>0</th>\n",
       "      <td>AP</td>\n",
       "      <td>20.37</td>\n",
       "      <td>27.78</td>\n",
       "      <td>24.075</td>\n",
       "      <td>True</td>\n",
       "      <td>AP</td>\n",
       "    </tr>\n",
       "    <tr>\n",
       "      <th>1</th>\n",
       "      <td>AP</td>\n",
       "      <td>12.96</td>\n",
       "      <td>38.18</td>\n",
       "      <td>25.570</td>\n",
       "      <td>True</td>\n",
       "      <td>AP</td>\n",
       "    </tr>\n",
       "    <tr>\n",
       "      <th>8</th>\n",
       "      <td>AP</td>\n",
       "      <td>24.07</td>\n",
       "      <td>25.45</td>\n",
       "      <td>24.760</td>\n",
       "      <td>True</td>\n",
       "      <td>AP</td>\n",
       "    </tr>\n",
       "    <tr>\n",
       "      <th>11</th>\n",
       "      <td>AP</td>\n",
       "      <td>20.37</td>\n",
       "      <td>20.00</td>\n",
       "      <td>20.185</td>\n",
       "      <td>True</td>\n",
       "      <td>AP</td>\n",
       "    </tr>\n",
       "    <tr>\n",
       "      <th>20</th>\n",
       "      <td>AP</td>\n",
       "      <td>29.63</td>\n",
       "      <td>18.18</td>\n",
       "      <td>23.905</td>\n",
       "      <td>True</td>\n",
       "      <td>AP</td>\n",
       "    </tr>\n",
       "  </tbody>\n",
       "</table>\n",
       "</div>"
      ],
      "text/plain": [
       "   State  Maths %  Science %  math_sci is_south south_vs_rest\n",
       "0     AP    20.37      27.78    24.075     True            AP\n",
       "1     AP    12.96      38.18    25.570     True            AP\n",
       "8     AP    24.07      25.45    24.760     True            AP\n",
       "11    AP    20.37      20.00    20.185     True            AP\n",
       "20    AP    29.63      18.18    23.905     True            AP"
      ]
     },
     "execution_count": 8,
     "metadata": {},
     "output_type": "execute_result"
    }
   ],
   "source": [
    "STATES = list(south[\"State\"].unique())\n",
    "south_st = [\"KL\", \"AP\",\"TN\",\"KA\"]\n",
    "roi = [S for S in STATES if S not in south_st]\n",
    "south[\"is_south\"] = south[\"State\"].isin(south_st)\n",
    "\n",
    "# function to add a new column \"south_vs_rest\"\n",
    "def new_col(south,south_st):\n",
    "    \"\"\"\n",
    "    Returns a new lst with south[\"state\"] as \n",
    "    the value if the state is in south_st, \n",
    "    else with the value \"Rest\"\n",
    "    \"\"\"\n",
    "    lst = []\n",
    "    for index in range(south.shape[0]):\n",
    "        state = south.iloc[index][\"State\"]\n",
    "        if state in south_st:\n",
    "            lst.append(state)\n",
    "        else:\n",
    "            lst.append(\"Rest\")\n",
    "    return lst\n",
    "south[\"south_vs_rest\"] = new_col(south,south_st)\n",
    "south.head()"
   ]
  },
  {
   "cell_type": "markdown",
   "metadata": {},
   "source": [
    "Created the dataframe south which contain an additional entry is_south which is true for south Indian states and false for other states in India.\n",
    "\n",
    "\n",
    "Calculating the average score of students in maths, science and both subjects combined for south India as well as students from other states, and plotting the results obtained\n"
   ]
  },
  {
   "cell_type": "code",
   "execution_count": 9,
   "metadata": {},
   "outputs": [
    {
     "name": "stdout",
     "output_type": "stream",
     "text": [
      "1465 46496.37\n",
      "16430 581536.185\n",
      "Av math score in south is  28.7088395904\n",
      "Av math score in Rest of India is  32.8704284845\n",
      "Av science score in south is  34.7674334471\n",
      "Av science score in Rest of India is  37.9191253804\n"
     ]
    }
   ],
   "source": [
    "le = len(south)\n",
    "south_cnt = 0\n",
    "south_val = 0\n",
    "roi_cnt = 0\n",
    "roi_val = 0\n",
    "smath = 0\n",
    "roimath = 0\n",
    "s_sci = 0\n",
    "roisci = 0\n",
    "\n",
    "for x in xrange(le):\n",
    "    if south.iloc[x, 4] == True:\n",
    "        south_cnt += 1\n",
    "        south_val += south.iloc[x, 3]\n",
    "        smath += south.iloc[x, 1]\n",
    "        s_sci += south.iloc[x, 2]\n",
    "    else:\n",
    "        roi_cnt += 1\n",
    "        roi_val += south.iloc[x, 3]\n",
    "        roimath += south.iloc[x, 1]\n",
    "        roisci += south.iloc[x, 2]\n",
    "        \n",
    "print south_cnt, south_val\n",
    "print roi_cnt, roi_val\n",
    "\n",
    "print \"Av math score in south is \", smath/south_cnt\n",
    "print \"Av math score in Rest of India is \", roimath/roi_cnt\n",
    "print \"Av science score in south is \", s_sci/south_cnt\n",
    "print \"Av science score in Rest of India is \", roisci/roi_cnt"
   ]
  },
  {
   "cell_type": "code",
   "execution_count": 20,
   "metadata": {},
   "outputs": [
    {
     "data": {
      "image/png": "[encoded data removed]",
      "text/plain": [
       "<matplotlib.figure.Figure at 0x7f37f52c0490>"
      ]
     },
     "metadata": {},
     "output_type": "display_data"
    }
   ],
   "source": [
    "labels = ('Avg South India Performance', 'Avg Rest of India Performance')\n",
    "y_pos = np.arange(len(labels))\n",
    "south_avg = (south_val*1.0)/south_cnt\n",
    "roi_avg = (roi_val*1.0)/roi_cnt\n",
    "perf = [south_avg, roi_avg]\n",
    "\n",
    "plt.bar(y_pos, perf, align='center', color=['green', 'red'])\n",
    "plt.xticks(y_pos, labels)\n",
    "plt.ylabel('Avg Performance')\n",
    "plt.title('Avg Perfomance of South India vs Rest Of India')\n",
    " \n",
    "plt.show()"
   ]
  },
  {
   "cell_type": "code",
   "execution_count": 21,
   "metadata": {},
   "outputs": [
    {
     "data": {
      "image/png": "[encoded data removed]",
      "text/plain": [
       "<matplotlib.figure.Figure at 0x7f37f51ac210>"
      ]
     },
     "metadata": {},
     "output_type": "display_data"
    }
   ],
   "source": [
    "labels = ('Avg Math Score South', 'Avg Math score ROI', 'Avg Science Score South', 'Avg Science score ROI', 'Total Science Maths avg South', 'Total Science Maths Avg ROI')\n",
    "ypos = np.arange(len(labels))\n",
    "south_math_avg = (smath*1.0)/south_cnt\n",
    "roi_math_avg = (roimath*1.0)/roi_cnt\n",
    "south_sci_avg = (s_sci*1.0)/south_cnt\n",
    "roi_sci_avg = (roisci*1.0)/roi_cnt\n",
    "perf = [south_math_avg, roi_math_avg, south_sci_avg, roi_sci_avg, south_avg, roi_avg]\n",
    "\n",
    "plt.barh(ypos, perf, align='center', color=['green', 'orange'])\n",
    "plt.yticks(ypos, labels)\n",
    "plt.xlabel('Avg Performance')\n",
    "plt.title('Avg Perfomance of South India vs Rest Of India')\n",
    " \n",
    "plt.show()"
   ]
  },
  {
   "cell_type": "markdown",
   "metadata": {},
   "source": [
    "Conclusion : The average performance of students from rest of India is better than students from south. "
   ]
  }
 ],
 "metadata": {
  "kernelspec": {
   "display_name": "Python 2",
   "language": "python",
   "name": "python2"
  },
  "language_info": {
   "codemirror_mode": {
    "name": "ipython",
    "version": 2
   },
   "file_extension": ".py",
   "mimetype": "text/x-python",
   "name": "python",
   "nbconvert_exporter": "python",
   "pygments_lexer": "ipython2",
   "version": "2.7.12"
  }
 },
 "nbformat": 4,
 "nbformat_minor": 2
}
